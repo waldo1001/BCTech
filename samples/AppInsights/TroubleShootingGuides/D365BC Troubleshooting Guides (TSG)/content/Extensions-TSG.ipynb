{
    "metadata": {
        "kernelspec": {
            "name": "python3",
            "display_name": "Python 3",
            "language": "python"
        },
        "language_info": {
            "name": "python",
            "version": "3.6.6",
            "mimetype": "text/x-python",
            "codemirror_mode": {
                "name": "ipython",
                "version": 3
            },
            "pygments_lexer": "ipython3",
            "nbconvert_exporter": "python",
            "file_extension": ".py"
        }
    },
    "nbformat_minor": 2,
    "nbformat": 4,
    "cells": [
        {
            "cell_type": "markdown",
            "source": [
                "# Dynamics 365 Business Central Trouble Shooting Guide (TSG) - Extensions\r\n",
                "\r\n",
                "This notebook contains Kusto queries that can help getting to the root cause of an issue with extensions for one or more environments. \r\n",
                "\r\n",
                "NB! Some of the signal used in this notebook is only available in newer versions of Business Central, so check the version of your environment if some sections do not return any data. The signal documentation states in which version a given signal was introduced."
            ],
            "metadata": {
                "azdata_cell_guid": "1f608a1d-2436-4b48-80d4-5c4d2f8ca7d0"
            }
        },
        {
            "cell_type": "markdown",
            "source": [
                "## 1\\. Get setup: Load up Python libraries and connect to Application Insights\n",
                "First you need to set the notebook Kernel to Python3, load the KQLmagic module (did you install it? <span style=\"color: rgb(33, 33, 33); font-family: Consolas, &quot;Courier New&quot;, monospace; font-size: 12px; white-space: pre;\">Install&nbsp;instructions:&nbsp;https://github.com/microsoft/BCTech/tree/master/samples/AppInsights/TroubleShootingGuides</span>) and connect to your Application Insights resource (get appid and appkey from the API access page in the Application Insights portal)"
            ],  
            "metadata": {
                "azdata_cell_guid": "f103fae9-cf6d-40f7-9062-11ce50691046"
            }
        },
        {
            "cell_type": "code",
            "source": [
                "# load the KQLmagic module\r\n",
                "%reload_ext Kqlmagic"
            ],
            "metadata": {
                "azdata_cell_guid": "5d02aa4b-9e41-474f-b643-2fbd482077af"
            },
            "outputs": [],
            "execution_count": null
        },
        {
            "cell_type": "code",
            "source": [
                "# Connect to the Application Insights API\r\n",
                "%kql appinsights://appid='<add app id from the Application Insights portal>';appkey='<add API key from the Application Insights portal>'\r\n",
                "\r\n",
                ""
            ],
            "metadata": {
                "azdata_cell_guid": "a253fa8e-6ac2-4722-a00a-1c52aedab4ed",
                "tags": []
            },
            "outputs": [],
            "execution_count": null
        },
        {
            "cell_type": "markdown",
            "source": [
                "## 2\\. Define filters\n",
                "\n",
                "This workbook is designed for troubleshooting extensions. Please provide values for aadTenantId, environmentName, and extensionId (or use a config file).\n",
                "\n",
                "You can also specify limits to the period of time that the analysis should include."
            ],
            "metadata": {
                "azdata_cell_guid": "9ef1220c-d9cc-4552-9297-1428efcafb32"
            }
        },
        {
            "cell_type": "code",
            "source": [
                "# Add values for AAD tenant id, environment name, and extension id.\r\n",
                "# It is possible to leave one or more values blank (if you want to analyze across all values of the parameter)\r\n",
                "\r\n",
                "# You can either use configuration file (INI file format) or set filters directly. \r\n",
                "\r\n",
                "# If you specify a config file, then variables set here takes precedence over manually set filter variables\r\n",
                "# config file name and directory (full path)\r\n",
                "configFile = \"c:/tmp/notebook.ini\"\r\n",
                "\r\n",
                "\r\n",
                "# Add AAD tenant id and environment name here\r\n",
                "aadTenantId = \"MyaaDtenantId\"\r\n",
                "environmentName = \"MyEnvironmentName\"\r\n",
                "extensionId = \"MyExtensionId\"\r\n",
                "\r\n",
                "# date filters for the analysis\r\n",
                "# use YYYY-MM-DD format for the dates (ISO 8601)\r\n",
                "startDate = \"2020-11-20\"\r\n",
                "endDate = \"2020-11-24\"\r\n",
                "\r\n",
                "\r\n",
                "\r\n",
                "\r\n",
                "# Do not edit this code section\r\n",
                "import configparser\r\n",
                "config = configparser.ConfigParser()\r\n",
                "\r\n",
                "config.read(configFile)\r\n",
                "\r\n",
                "if bool(config.defaults()):\r\n",
                "    if config.has_option('DEFAULT', 'aadTenantId'):\r\n",
                "        aadTenantId = config['DEFAULT']['aadTenantId']\r\n",
                "    if config.has_option('DEFAULT', 'environmentName'):\r\n",
                "        environmentName = config['DEFAULT']['environmentName']\r\n",
                "    if config.has_option('DEFAULT', 'extensionId'):\r\n",
                "        extensionId = config['DEFAULT']['extensionId']\r\n",
                "    if config.has_option('DEFAULT', 'startDate'):    \r\n",
                "        startDate = config['DEFAULT']['startDate']\r\n",
                "    if config.has_option('DEFAULT', 'endDate'):\r\n",
                "        endDate = config['DEFAULT']['endDate']\r\n",
                "\r\n",
                "print(\"Using these parameters for the analysis:\")\r\n",
                "print(\"----------------------------------------\")\r\n",
                "print(\"aadTenantId         \" + aadTenantId)\r\n",
                "print(\"environmentName     \" + environmentName)\r\n",
                "print(\"extensionId         \" + extensionId)\r\n",
                "print(\"startDate           \" + startDate)\r\n",
                "print(\"endDate             \" + endDate)"
            ],
            "metadata": {
                "azdata_cell_guid": "0a0785f7-a85e-4ccf-9020-732e1d4c058a",
                "tags": [
                    "hide_input"
                ]
            },
            "outputs": [],
            "execution_count": null
        },
        {
            "cell_type": "markdown",
            "source": [
                "# Analyze extension events\r\n",
                "Now you can run Kusto queries to look for possible root causes for issues about extensions.\r\n",
                "\r\n",
                "Either click **Run All** above to run all sections, or scroll down to the type of analysis you want to do and manually run queries"
            ],
            "metadata": {
                "azdata_cell_guid": "5f9b698d-8a7e-4757-b27d-02f219d6c589"
            }
        },
        {
            "cell_type": "markdown",
            "source": [
                "## Extension event overview\r\n",
                "\r\n",
                "Event telemetry docs: \r\n",
                "* https://docs.microsoft.com/en-us/dynamics365/business-central/dev-itpro/administration/telemetry-extension-lifecycle-trace\r\n",
                "* https://docs.microsoft.com/en-us/dynamics365/business-central/dev-itpro/administration/telemetry-extension-update-trace\r\n",
                "\r\n",
                "KQL samples: https://github.com/microsoft/BCTech/blob/master/samples/AppInsights/KQL/RawData/ExtensionLifecycle.kql"
            ],
            "metadata": {
                "azdata_cell_guid": "2f9c2d0d-df3c-482b-af58-48416a517117"
            }
        },
        {
            "cell_type": "code",
            "source": [
                "%%kql\r\n",
                "//\r\n",
                "// extension event types stats \r\n",
                "// \r\n",
                "let _aadTenantId = aadTenantId;\r\n",
                "let _environmentName = environmentName;\r\n",
                "let _extensionId = extensionId;\r\n",
                "let _startDate = startDate;\r\n",
                "let _endDate = endDate;\r\n",
                "traces\r\n",
                "| where 1==1 \r\n",
                "    and timestamp >= todatetime(_startDate)\r\n",
                "    and timestamp <= todatetime(_endDate) + totimespan(24h) - totimespan(1ms)\r\n",
                "    and (_aadTenantId == '' or customDimensions.aadTenantId == _aadTenantId)\r\n",
                "    and (_environmentName == '' or customDimensions.environmentName == _environmentName )\r\n",
                "    and (_extensionId == '' or customDimensions.extensionId == _extensionId)    \r\n",
                "    and customDimensions.eventId in ('RT0010', 'LC0010', 'LC0011', 'LC0012', 'LC0013', 'LC0014', 'LC0015', 'LC0016', 'LC0017', 'LC0018', 'LC0019', 'LC020', 'LC021', 'LC022', 'LC023')    \r\n",
                "| extend aadTenantId=tostring( customDimensions.aadTenantId)\r\n",
                "       , environmentName=tostring( customDimensions.environmentName )\r\n",
                "       , extensionId=tostring( customDimensions.extensionId )\r\n",
                "       , eventId=tostring(customDimensions.eventId)\r\n",
                "| extend eventMessageShort= strcat( case(\r\n",
                "              eventId=='RT0010', 'Update failed (upgrade code)'\r\n",
                "            , eventId=='LC0011', 'Install failed'\r\n",
                "            , eventId=='LC0012', 'Synch succeeded'\r\n",
                "            , eventId=='LC0013', 'Synch failed'           \r\n",
                "            , eventId=='LC0014', 'Publish succeeded'\r\n",
                "            , eventId=='LC0015', 'Publish failed'\r\n",
                "            , eventId=='LC0016', 'Un-install succeeded'\r\n",
                "            , eventId=='LC0017', 'Un-install failed'\r\n",
                "            , eventId=='LC0018', 'Un-publish succeeded'\r\n",
                "            , eventId=='LC0019', 'Un-publish failed'\r\n",
                "            , eventId=='LC0020', 'Compilation succeeded'\r\n",
                "            , eventId=='LC0021', 'Compilation failed'\r\n",
                "            , eventId=='LC0022', 'Update succeeded'\r\n",
                "            , eventId=='LC0023', 'Update failed (other)'\r\n",
                "            ,                    'Unknown message'\r\n",
                "         ), \" (\", eventId, ')'  )\r\n",
                "| summarize count=count() by eventType=eventMessageShort\r\n",
                "| order by eventType\r\n",
                "| render barchart with (title='Extension lifecycle event overview', legend=hidden)"
            ],
            "metadata": {
                "azdata_cell_guid": "a9e923e9-1d05-4acf-a230-4c5142bc3582",
                "tags": []
            },
            "outputs": [],
            "execution_count": null
        },
        {
            "cell_type": "code",
            "source": [
                "%%kql\r\n",
                "//\r\n",
                "// top 100 extension events\r\n",
                "// \r\n",
                "let _aadTenantId = aadTenantId;\r\n",
                "let _environmentName = environmentName;\r\n",
                "let _extensionId = extensionId;\r\n",
                "let _startDate = startDate;\r\n",
                "let _endDate = endDate;\r\n",
                "traces\r\n",
                "| where 1==1 \r\n",
                "    and timestamp >= todatetime(_startDate)\r\n",
                "    and timestamp <= todatetime(_endDate) + totimespan(24h) - totimespan(1ms)\r\n",
                "    and (_aadTenantId == '' or customDimensions.aadTenantId == _aadTenantId)\r\n",
                "    and (_environmentName == '' or customDimensions.environmentName == _environmentName )\r\n",
                "    and (_extensionId == '' or customDimensions.extensionId == _extensionId)    \r\n",
                "    and customDimensions.eventId in ('RT0010', 'LC0010', 'LC0011', 'LC0012', 'LC0013', 'LC0014', 'LC0015', 'LC0016', 'LC0017', 'LC0018', 'LC0019', 'LC020', 'LC021', 'LC022', 'LC023')    \r\n",
                "| extend aadTenantId=tostring( customDimensions.aadTenantId)\r\n",
                "       , environmentName=tostring( customDimensions.environmentName )\r\n",
                "       , extensionId=tostring( customDimensions.extensionId )\r\n",
                "       , extensionName=tostring( customDimensions.extensionName )\r\n",
                "       , eventId=tostring(customDimensions.eventId)       \r\n",
                "| extend eventMessageShort= strcat( case(\r\n",
                "              eventId=='RT0010', 'Update failed (upgrade code)'\r\n",
                "            , eventId=='LC0011', 'Install failed'\r\n",
                "            , eventId=='LC0012', 'Synch succeeded'\r\n",
                "            , eventId=='LC0013', 'Synch failed'           \r\n",
                "            , eventId=='LC0014', 'Publish succeeded'\r\n",
                "            , eventId=='LC0015', 'Publish failed'\r\n",
                "            , eventId=='LC0016', 'Un-install succeeded'\r\n",
                "            , eventId=='LC0017', 'Un-install failed'\r\n",
                "            , eventId=='LC0018', 'Un-publish succeeded'\r\n",
                "            , eventId=='LC0019', 'Un-publish failed'\r\n",
                "            , eventId=='LC0020', 'Compilation succeeded'\r\n",
                "            , eventId=='LC0021', 'Compilation failed'\r\n",
                "            , eventId=='LC0022', 'Update succeeded'\r\n",
                "            , eventId=='LC0023', 'Update failed (other)'\r\n",
                "            ,                    'Unknown message'\r\n",
                "         ), \" (\", eventId, ')'  )\r\n",
                "| project timestamp, eventMessageShort, extensionName, aadTenantId, environmentName, extensionId\r\n",
                "| order by aadTenantId, environmentName, extensionId, timestamp asc\r\n",
                "| limit 100"
            ],
            "metadata": {
                "azdata_cell_guid": "e4e56e1a-ab5d-427a-bc49-747e6ae34a75"
            },
            "outputs": [],
            "execution_count": null
        },
        {
            "cell_type": "markdown",
            "source": [
                "## Extension failures\r\n",
                "\r\n",
                "Event telemetry docs: \r\n",
                "* https://docs.microsoft.com/en-us/dynamics365/business-central/dev-itpro/administration/telemetry-extension-lifecycle-trace\r\n",
                "* https://docs.microsoft.com/en-us/dynamics365/business-central/dev-itpro/administration/telemetry-extension-update-trace"
            ],
            "metadata": {
                "azdata_cell_guid": "2f7e604a-0d02-484e-9bcb-a6aa148d5f0b"
            }
        },
        {
            "cell_type": "code",
            "source": [
                "%%kql\r\n",
                "//\r\n",
                "// extension event failure overview\r\n",
                "// \r\n",
                "let _aadTenantId = aadTenantId;\r\n",
                "let _environmentName = environmentName;\r\n",
                "let _extensionId = extensionId;\r\n",
                "let _startDate = startDate;\r\n",
                "let _endDate = endDate;\r\n",
                "traces\r\n",
                "| where 1==1 \r\n",
                "    and timestamp >= todatetime(_startDate)\r\n",
                "    and timestamp <= todatetime(_endDate) + totimespan(24h) - totimespan(1ms)\r\n",
                "    and (_aadTenantId == '' or customDimensions.aadTenantId == _aadTenantId)\r\n",
                "    and (_environmentName == '' or customDimensions.environmentName == _environmentName )\r\n",
                "    and (_extensionId == '' or customDimensions.extensionId == _extensionId)    \r\n",
                "    and customDimensions.eventId in ('RT0010', 'LC0011', 'LC0013', 'LC0015', 'LC0017', 'LC0019', 'LC021', 'LC023')    \r\n",
                "| extend aadTenantId=tostring( customDimensions.aadTenantId)\r\n",
                "       , environmentName=tostring( customDimensions.environmentName )\r\n",
                "       , extensionId=tostring( customDimensions.extensionId )\r\n",
                "       , eventId=tostring(customDimensions.eventId)\r\n",
                "| extend eventMessageShort= strcat( case(\r\n",
                "              eventId=='RT0010', 'Update failed (upgrade code)'\r\n",
                "            , eventId=='LC0011', 'Install failed'\r\n",
                "            , eventId=='LC0013', 'Synch failed'           \r\n",
                "            , eventId=='LC0015', 'Publish failed'\r\n",
                "            , eventId=='LC0017', 'Un-install failed'\r\n",
                "            , eventId=='LC0019', 'Un-publish failed'\r\n",
                "            , eventId=='LC0021', 'Compilation failed'\r\n",
                "            , eventId=='LC0023', 'Update failed (other)'\r\n",
                "            ,                    'Unknown message'\r\n",
                "         ), \" (\", eventId, ')'  )\r\n",
                "| summarize count=count() by eventType=eventMessageShort\r\n",
                "| order by eventType\r\n",
                "| render barchart with (title='Failure type overview', xtitle=\"\", legend=hidden)"
            ],
            "metadata": {
                "azdata_cell_guid": "9ec9b678-7d66-4758-9101-4e9e5025dfcf",
                "tags": []
            },
            "outputs": [],
            "execution_count": null
        },
        {
            "cell_type": "code",
            "source": [
                "%%kql\r\n",
                "//\r\n",
                "// top 100 latest extension event failure details\r\n",
                "// \r\n",
                "let _aadTenantId = aadTenantId;\r\n",
                "let _environmentName = environmentName;\r\n",
                "let _extensionId = extensionId;\r\n",
                "let _startDate = startDate;\r\n",
                "let _endDate = endDate;\r\n",
                "traces\r\n",
                "| where 1==1 \r\n",
                "    and timestamp >= todatetime(_startDate)\r\n",
                "    and timestamp <= todatetime(_endDate) + totimespan(24h) - totimespan(1ms)\r\n",
                "    and (_aadTenantId == '' or customDimensions.aadTenantId == _aadTenantId)\r\n",
                "    and (_environmentName == '' or customDimensions.environmentName == _environmentName )\r\n",
                "    and (_extensionId == '' or customDimensions.extensionId == _extensionId)\r\n",
                "    and customDimensions.eventId in ('RT0010', 'LC0011', 'LC0013', 'LC0015', 'LC0017', 'LC0019', 'LC021', 'LC023')    \r\n",
                "| extend aadTenantId=tostring( customDimensions.aadTenantId)\r\n",
                "       , environmentName=tostring( customDimensions.environmentName )\r\n",
                "       , extensionId=tostring( customDimensions.extensionId )\r\n",
                "       , eventId=tostring(customDimensions.eventId)\r\n",
                "       , extensionName=tostring(customDimensions.extensionName)\r\n",
                "| extend eventMessageShort= strcat( case(\r\n",
                "              eventId=='RT0010', 'Update failed (upgrade code)'\r\n",
                "            , eventId=='LC0011', 'Install failed'\r\n",
                "            , eventId=='LC0013', 'Synch failed'           \r\n",
                "            , eventId=='LC0015', 'Publish failed'\r\n",
                "            , eventId=='LC0017', 'Un-install failed'\r\n",
                "            , eventId=='LC0019', 'Un-publish failed'\r\n",
                "            , eventId=='LC0021', 'Compilation failed'\r\n",
                "            , eventId=='LC0023', 'Update failed (other)'\r\n",
                "            ,                    'Unknown message'\r\n",
                "         ), \" (\", eventId, ')'  )\r\n",
                "| project timestamp, extensionName, eventType=eventMessageShort\r\n",
                ", version=customDimensions.extensionVersion\r\n",
                ", failureReason=customDimensions.failureReason\r\n",
                ", aadTenantId, environmentName, extensionId\r\n",
                "| order by timestamp desc\r\n",
                "| limit 100"
            ],
            "metadata": {
                "azdata_cell_guid": "0b53c769-10f8-4343-a89f-fc4cd110d0fa"
            },
            "outputs": [],
            "execution_count": null
        },
        {
            "cell_type": "code",
            "source": [
                "%%kql\r\n",
                "//\r\n",
                "// top 20 latest update failures (due to upgrade code)\r\n",
                "// \r\n",
                "let _aadTenantId = aadTenantId;\r\n",
                "let _environmentName = environmentName;\r\n",
                "let _extensionId = extensionId;\r\n",
                "let _startDate = startDate;\r\n",
                "let _endDate = endDate;\r\n",
                "traces\r\n",
                "| where 1==1 \r\n",
                "    and timestamp >= todatetime(_startDate)\r\n",
                "    and timestamp <= todatetime(_endDate) + totimespan(24h) - totimespan(1ms)\r\n",
                "    and (_aadTenantId == '' or customDimensions.aadTenantId == _aadTenantId)\r\n",
                "    and (_environmentName == '' or customDimensions.environmentName == _environmentName )\r\n",
                "    and (_extensionId == '' or customDimensions.extensionId == _extensionId)\r\n",
                "    and customDimensions.eventId == 'RT0010'\r\n",
                "| extend aadTenantId=tostring( customDimensions.aadTenantId)\r\n",
                "       , environmentName=tostring( customDimensions.environmentName )\r\n",
                "       , extensionId=tostring( customDimensions.extensionId )\r\n",
                "       , eventId=tostring(customDimensions.eventId)\r\n",
                "       , extensionName=tostring(customDimensions.extensionName)\r\n",
                "| project timestamp, extensionName\r\n",
                ", version=customDimensions.extensionVersion\r\n",
                ", targetedVersion =customDimensions.extensionTargetedVersion\r\n",
                ", failureType =customDimensions.failureType\r\n",
                ", alStackTrace =customDimensions.alStackTrace\r\n",
                ", companyName = customDimensions.companyName\r\n",
                ", extensionPublisher = customDimensions.extensionPublisher\r\n",
                ", aadTenantId, environmentName, extensionId\r\n",
                "| order by timestamp desc\r\n",
                "| limit 20"
            ],
            "metadata": {
                "azdata_cell_guid": "575c7fec-cefd-49f0-b7ef-32c11a505e2f"
            },
            "outputs": [],
            "execution_count": null
        },
        {
            "cell_type": "code",
            "source": [
                "%%kql\r\n",
                "//\r\n",
                "// top 20 latest synch failures\r\n",
                "// \r\n",
                "let _aadTenantId = aadTenantId;\r\n",
                "let _environmentName = environmentName;\r\n",
                "let _extensionId = extensionId;\r\n",
                "let _startDate = startDate;\r\n",
                "let _endDate = endDate;\r\n",
                "traces\r\n",
                "| where 1==1 \r\n",
                "    and timestamp >= todatetime(_startDate)\r\n",
                "    and timestamp <= todatetime(_endDate) + totimespan(24h) - totimespan(1ms)\r\n",
                "    and (_aadTenantId == '' or customDimensions.aadTenantId == _aadTenantId)\r\n",
                "    and (_environmentName == '' or customDimensions.environmentName == _environmentName )\r\n",
                "    and (_extensionId == '' or customDimensions.extensionId == _extensionId)\r\n",
                "    and customDimensions.eventId == 'LC0013'\r\n",
                "| extend aadTenantId=tostring( customDimensions.aadTenantId)\r\n",
                "       , environmentName=tostring( customDimensions.environmentName )\r\n",
                "       , extensionId=tostring( customDimensions.extensionId )\r\n",
                "       , eventId=tostring(customDimensions.eventId)\r\n",
                "       , extensionName=tostring(customDimensions.extensionName)\r\n",
                "| project timestamp, extensionName\r\n",
                ", version=customDimensions.extensionVersion\r\n",
                ", failureReason=customDimensions.failureReason\r\n",
                ", publishedAs = customDimensions.extensionPublishedAs\r\n",
                ", extensionPublisher = customDimensions.extensionPublisher\r\n",
                ", extensionScope = customDimensions.extensionScope\r\n",
                ", extensionSynchronizationMode = customDimensions.extensionSynchronizationMode\r\n",
                ", aadTenantId, environmentName, extensionId\r\n",
                "| order by timestamp desc\r\n",
                "| limit 20"
            ],
            "metadata": {
                "azdata_cell_guid": "802147b9-f824-4736-91a8-3b0614a44357"
            },
            "outputs": [],
            "execution_count": null
        },
        {
            "cell_type": "code",
            "source": [
                "%%kql\r\n",
                "//\r\n",
                "// top 20 latest compilation failures\r\n",
                "// \r\n",
                "let _aadTenantId = aadTenantId;\r\n",
                "let _environmentName = environmentName;\r\n",
                "let _extensionId = extensionId;\r\n",
                "let _startDate = startDate;\r\n",
                "let _endDate = endDate;\r\n",
                "traces\r\n",
                "| where 1==1 \r\n",
                "    and timestamp >= todatetime(_startDate)\r\n",
                "    and timestamp <= todatetime(_endDate) + totimespan(24h) - totimespan(1ms)\r\n",
                "    and (_aadTenantId == '' or customDimensions.aadTenantId == _aadTenantId)\r\n",
                "    and (_environmentName == '' or customDimensions.environmentName == _environmentName )\r\n",
                "    and (_extensionId == '' or customDimensions.extensionId == _extensionId)\r\n",
                "    and customDimensions.eventId == 'LC0021'\r\n",
                "| extend aadTenantId=tostring( customDimensions.aadTenantId)\r\n",
                "       , environmentName=tostring( customDimensions.environmentName )\r\n",
                "       , extensionId=tostring( customDimensions.extensionId )\r\n",
                "       , eventId=tostring(customDimensions.eventId)\r\n",
                "       , extensionName=tostring(customDimensions.extensionName)\r\n",
                "| project timestamp, extensionName\r\n",
                ", version=customDimensions.extensionVersion\r\n",
                ", failureReason=customDimensions.failureReason\r\n",
                ", compilationResult = customDimensions.extensionCompilationResult\r\n",
                ", compilationDependencyList = customDimensions.extensionCompilationDependencyList\r\n",
                ", publisher = customDimensions.extensionPublisher\r\n",
                ", publishedAs = customDimensions.extensionPublishedAs\r\n",
                ", extensionScope = customDimensions.extensionScope\r\n",
                ", aadTenantId, environmentName, extensionId\r\n",
                "| order by timestamp desc\r\n",
                "| limit 20"
            ],
            "metadata": {
                "azdata_cell_guid": "8c69c428-9aac-4e76-b79a-b9654839ab38"
            },
            "outputs": [],
            "execution_count": null
        }
    ]
}