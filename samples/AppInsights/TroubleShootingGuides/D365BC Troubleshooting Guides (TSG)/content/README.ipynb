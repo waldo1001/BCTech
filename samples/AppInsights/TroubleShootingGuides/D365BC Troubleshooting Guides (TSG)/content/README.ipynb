{
    "metadata": {
        "kernelspec": {
            "name": "SQL",
            "display_name": "SQL",
            "language": "sql"
        },
        "language_info": {
            "name": "sql",
            "version": ""
        }
    },
    "nbformat_minor": 2,
    "nbformat": 4,
    "cells": [
        {
            "cell_type": "markdown",
            "source": [
                "# Troubleshooting guide (TSG) notebooks based on partner telemetry\n",
                "Welcome to the D365BC troubleshooting guides. Use them to troublehoot D365BC environments or apps (require that telemetry have been setup)\n",
                "**Quick tip!** If you need to run multiple notebooks against the same configuration, then take a copy of the _notebook.ini_ file, and copy it to _c:\\\\tmp_. Then you can edit filter variables in the file and all notebooks will pick them up when running the code cell for filters."
            ],
            "metadata": {\n",
                "\n",
                "\n",
                "Install instructions for Azure Data Studio with KQL magic: https://github.com/microsoft/BCTech/tree/master/samples/AppInsights/TroubleShootingGuides
                "azdata_cell_guid": "b53a5b97-9e27-4515-924c-3612c8fc15ec"
            }
        },
        {
            "cell_type": "markdown",
            "source": [
                "# Which TSGs are good for what?\n",
                "\n",
                "  \n",
                "|  |  |\n",
                "| --- | --- |\n",
                "| **TSG** | **Useful for** |\n",
                "| [Database issues TSG](./Data-related-TSG.ipynb) <br><br>[notebook.ini](./notebook.ini) | Use this TSG to analyze data-related issues for a single environment, such as <ul><li>Long running queries</li><li>Database locks</li><li>Reports that runs many sql statements</li></ul> |\n",
                "| [Extension issues TSG](./Extensions-TSG.ipynb) <br><br>[notebook.ini](./notebook.ini)| Use this TSG to analyze issues with the extension lifecycle (compile, synchronize, publish, install, update, un-install, un-publish). You can set filters on AAD tenant id, environment name, and extension id to troubleshoot<ul><li>all environments in a AAD tenant id</li><li>a single environment</li><li>a single extensions</li></ul> |\n",
                "| [Login issues TSG](./Login-issues-TSG.ipynb) <br><br>[notebook.ini](./notebook.ini) | Use this TSG for cases related to login issues in a single environment, such as <ul><li>if one or more users cannot login (check failure reasons in authorization checks before/after onCompanyOpen trigger</li><li>to troubleshoot if a login issue is related to firewall/network issues at the customer site (check if web service requests get in but client requests are not present)</li><li>to check if logins are successful again after an incident </li></ul>|\n",
                "| [Microsoft connector issues TSG](./Microsoft-Connectors-TSG.ipynb) <br><br>[notebook.ini](./notebook.ini) | Use this TSG to analyze issues with connectors (Teams, PowerBI, PowerApps, LogicApps, or Flow), such as <ul><li>Is the connector throttled?</li><li>Connector performance</li><li>Failure reasons (HTTP codes 401, 404, 408, 426)</li></ul> |\n",
                "| [Performance issues in partner code TSG](./Performance-partner-code-TSG.ipynb) <br><br>[notebook.ini](./notebook.ini)| Use this TSG to analyze performance problems in partner code for a single environment, such as <ul><li>Sessions</li><li>Web service calls (in/out)</li><li>Database long running SQL queries and lock timeouts</li><li>Report execution</li><li>Company management (rename/copy/…)</li><li>Slow AL code</li></ul>The TSG filters telemetry on object ids outside the ranges used for the base app and localizations (the code written by MSFT) and shows code ownership (environment, ISV, or MSFT)|\n",
                "| [Web service issues TSG](./Web-services-TSG.ipynb) <br><br>[notebook.ini](./notebook.ini) | Use this TSG to analyze issues with web services for a single environment, such as <ul><li>Is the environment being throttled?</li><li>Endpoint performance</li><li>Failure reasons (HTTP codes 400, 401, 404, 408, 426)  </li></ul>Has sections for both incoming and outgoing requests |  \n",
                "\n",
                ""
            ],
            "metadata": {
                "azdata_cell_guid": "568a34e6-6908-432a-b9d0-4cb4c5dbe893"
            }
        }
    ]
}