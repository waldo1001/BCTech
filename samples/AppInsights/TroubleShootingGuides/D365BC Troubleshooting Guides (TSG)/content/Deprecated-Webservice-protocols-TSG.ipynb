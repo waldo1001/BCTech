{
    "metadata": {
        "kernelspec": {
            "name": "python3",
            "display_name": "Python 3",
            "language": "python"
        },
        "language_info": {
            "name": "python",
            "version": "3.6.6",
            "mimetype": "text/x-python",
            "codemirror_mode": {
                "name": "ipython",
                "version": 3
            },
            "pygments_lexer": "ipython3",
            "nbconvert_exporter": "python",
            "file_extension": ".py"
        }
    },
    "nbformat_minor": 2,
    "nbformat": 4,
    "cells": [
        {
            "cell_type": "markdown",
            "source": [
                "# Dynamics 365 Business Central Trouble Shooting Guide (TSG) - Usage of deprecated web service protocols\r\n",
                "\r\n",
                "This notebook contains Kusto queries that can help determining if one ore more environments are still using web services build on the depreated Odata v3 protocol. Queries go back 30 days\r\n",
                "\r\n",
                "NB! The signal used in this notebook is only available in versions 16.1 (or newer) of Business Central, so check the version of your environment if you don't see any data.\r\n",
                "\r\n",
                "Web service request signal is documented here: https://docs.microsoft.com/en-us/dynamics365/business-central/dev-itpro/administration/telemetry-webservices-trace "
            ],
            "metadata": {
                "azdata_cell_guid": "1f608a1d-2436-4b48-80d4-5c4d2f8ca7d0"
            }
        },
        {
            "cell_type": "markdown",
            "source": [
                "## 1\\. Get setup: Load up Python libraries and connect to Application Insights\n",
                "First you need to set the notebook Kernel to Python3, load the KQLmagic module (did you install it? <span style=\"color: rgb(0, 128, 0); font-family: Consolas, &quot;Courier New&quot;, monospace; font-size: 12px; white-space: pre;\">Install&nbsp;instructions:&nbsp;https://github.com/microsoft/BCTech/tree/master/samples/AppInsights/TroubleShootingGuides</span>) and connect to your Application Insights resource (get appid and appkey from the API access page in the Application Insights portal)"
            ],  
            "metadata": {
                "azdata_cell_guid": "f103fae9-cf6d-40f7-9062-11ce50691046"
            }
        },
        {
            "cell_type": "code",
            "source": [
                "# load the KQLmagic module\r\n",
                "%reload_ext Kqlmagic"
            ],
            "metadata": {
                "azdata_cell_guid": "2215d24c-babd-46aa-a4f6-6988159487c7"
            },
            "outputs": [],
            "execution_count": null
        },
        {
            "cell_type": "code",
            "source": [
                "# Connect to the Application Insights API\r\n",
                "%kql appinsights://appid='<add app id from the Application Insights portal>';appkey='<add API key from the Application Insights portal>'"
            ],
            "metadata": {
                "azdata_cell_guid": "a253fa8e-6ac2-4722-a00a-1c52aedab4ed",
                "tags": []
            },
            "outputs": [],
            "execution_count": null
        },
        {
            "cell_type": "markdown",
            "source": [
                "## 2\\. Define filters\n",
                "\n",
                "This workbook is designed for troubleshooting environments in an AAD subscription. Please provide values for aadTenantId below (or use a config file)."
            ],
            "metadata": {
                "azdata_cell_guid": "9ef1220c-d9cc-4552-9297-1428efcafb32"
            }
        },
        {
            "cell_type": "code",
            "source": [
                "# TSG filter variables\r\n",
                "\r\n",
                "# You can either use configuration file (INI file format) or set filters directly. \r\n",
                "\r\n",
                "# If you specify a config file, then variables set here takes precedence over manually set filter variables\r\n",
                "# config file name and directory (full path)\r\n",
                "configFile = \"c:/tmp/notebook.ini\"\r\n",
                "\r\n",
                "\r\n",
                "# Add AAD tenant id and environment name here\r\n",
                "aadTenantId = \"MyaaDtenantId\"\r\n",
                "environmentName = \"MyEnvironment\"\r\n",
                "\r\n",
                "# date filters for the analysis\r\n",
                "# use YYYY-MM-DD format for the dates (ISO 8601)\r\n",
                "startDate = \"2020-11-20\"\r\n",
                "endDate = \"2020-11-24\"\r\n",
                "\r\n",
                "\r\n",
                "\r\n",
                "\r\n",
                "# Do not edit this code section\r\n",
                "import configparser\r\n",
                "config = configparser.ConfigParser()\r\n",
                "\r\n",
                "config.read(configFile)\r\n",
                "\r\n",
                "if bool(config.defaults()):\r\n",
                "    if config.has_option('DEFAULT', 'aadTenantId'):\r\n",
                "        aadTenantId = config['DEFAULT']['aadTenantId']\r\n",
                "    if config.has_option('DEFAULT', 'environmentName'):\r\n",
                "        environmentName = config['DEFAULT']['environmentName']\r\n",
                "    if config.has_option('DEFAULT', 'extensionId'):\r\n",
                "        extensionId = config['DEFAULT']['extensionId']\r\n",
                "    if config.has_option('DEFAULT', 'startDate'):    \r\n",
                "        startDate = config['DEFAULT']['startDate']\r\n",
                "    if config.has_option('DEFAULT', 'endDate'):\r\n",
                "        endDate = config['DEFAULT']['endDate']\r\n",
                "\r\n",
                "print(\"Using these parameters for the analysis:\")\r\n",
                "print(\"----------------------------------------\")\r\n",
                "print(\"aadTenantId         \" + aadTenantId)\r\n",
                "print(\"environmentName     \" + environmentName)\r\n",
                "print(\"startDate           \" + startDate)\r\n",
                "print(\"endDate             \" + endDate)"
            ],
            "metadata": {
                "azdata_cell_guid": "0a0785f7-a85e-4ccf-9020-732e1d4c058a",
                "tags": []
            },
            "outputs": [],
            "execution_count": null
        },
        {
            "cell_type": "markdown",
            "source": [
                "# Analyze usage of web services\r\n",
                "\r\n",
                "Either click **Run All** above to run all sections, or scroll down to the type of analysis you want to do and manually run queries\r\n",
                "\r\n",
                "Telemetry docs: https://docs.microsoft.com/en-us/dynamics365/business-central/dev-itpro/administration/telemetry-webservices-trace\r\n",
                "\r\n",
                "KQL samples\r\n",
                "* https://github.com/microsoft/BCTech/blob/master/samples/AppInsights/KQL/RawData/WebServiceCalls.kql\r\n",
                "* https://github.com/microsoft/BCTech/blob/master/samples/AppInsights/KQL/DeprecatedWebServiceProtocols.kql"
            ],
            "metadata": {
                "azdata_cell_guid": "5f9b698d-8a7e-4757-b27d-02f219d6c589"
            }
        },
        {
            "cell_type": "markdown",
            "source": [
                "## Request stats (last 30 days)\r\n",
                "The first report shows statistics for all categories.\r\n",
                "\r\n",
                "The second report shows statistics only for deprecated categories.\r\n",
                ""
            ],
            "metadata": {
                "azdata_cell_guid": "810235a1-c202-47a2-b9dc-4d4d1ffd123c"
            }
        },
        {
            "cell_type": "code",
            "source": [
                "%%kql\r\n",
                "let _aadTenantId = aadTenantId;\r\n",
                "let _environmentName = environmentName;\r\n",
                "traces\r\n",
                "| where 1==1 \r\n",
                "    and timestamp > ago(30d)\r\n",
                "    and customDimensions.aadTenantId == _aadTenantId\r\n",
                "    and (_environmentName == '' or customDimensions.environmentName == _environmentName )\r\n",
                "    and customDimensions.eventId == 'RT0008'\r\n",
                "| extend category = tostring( customDimensions.category )\r\n",
                "| summarize request_count=count() by category, bin(timestamp, 1d)\r\n",
                "| render timechart title= 'Number of web service requests by category (ODatav4, ODatav3, SOAP, API)'"
            ],
            "metadata": {
                "azdata_cell_guid": "6426410c-182a-486c-8466-228cb9ce3228",
                "tags": []
            },
            "outputs": [],
            "execution_count": null
        },
        {
            "cell_type": "code",
            "source": [
                "%%kql\r\n",
                "let _aadTenantId = aadTenantId;\r\n",
                "let _environmentName = environmentName;\r\n",
                "traces\r\n",
                "| where 1==1 \r\n",
                "    and timestamp > ago(30d)\r\n",
                "    and customDimensions.aadTenantId == _aadTenantId\r\n",
                "    and (_environmentName == '' or customDimensions.environmentName == _environmentName )\r\n",
                "    and customDimensions.eventId == 'RT0008'\r\n",
                "    and customDimensions.category == 'ODataV3'\r\n",
                "| extend category = tostring( customDimensions.category )\r\n",
                "| summarize request_count=count() by category, bin(timestamp, 1d)\r\n",
                "| render timechart title= 'Number of web service requests by category (deprecated categories)'"
            ],
            "metadata": {
                "azdata_cell_guid": "2da40a82-82ec-44a2-b13b-6086e11cdfb0"
            },
            "outputs": [],
            "execution_count": null
        },
        {
            "cell_type": "markdown",
            "source": [
                "## Web service endpoints using deprecated protocols\r\n",
                "\r\n",
                "The following endpoints are exposed ad web service endpoints using a deprecated protocol (query shows the first 100)"
            ],
            "metadata": {
                "azdata_cell_guid": "2f9c2d0d-df3c-482b-af58-48416a517117"
            }
        },
        {
            "cell_type": "code",
            "source": [
                "%%kql\r\n",
                "let _aadTenantId = aadTenantId;\r\n",
                "let _environmentName = environmentName;\r\n",
                "traces\r\n",
                "| where 1==1 \r\n",
                "    and timestamp > ago(30d)\r\n",
                "    and customDimensions.aadTenantId == _aadTenantId\r\n",
                "    and (_environmentName == '' or customDimensions.environmentName == _environmentName )\r\n",
                "    and customDimensions.eventId == 'RT0008'\r\n",
                "    and customDimensions.category == 'ODataV3'\r\n",
                "| project aadId = tostring( customDimensions.aadTenantId )\r\n",
                "        , environmentName = tostring( customDimensions.environmentName )\r\n",
                "        , category = tostring( customDimensions.category )\r\n",
                "        , endpoint = tostring( customDimensions.endpoint )\r\n",
                "| distinct aadId\r\n",
                "        , environmentName \r\n",
                "        , category \r\n",
                "        , endpoint\r\n",
                "| limit 100"
            ],
            "metadata": {
                "azdata_cell_guid": "a9e923e9-1d05-4acf-a230-4c5142bc3582",
                "tags": []
            },
            "outputs": [],
            "execution_count": null
        }
    ]
}