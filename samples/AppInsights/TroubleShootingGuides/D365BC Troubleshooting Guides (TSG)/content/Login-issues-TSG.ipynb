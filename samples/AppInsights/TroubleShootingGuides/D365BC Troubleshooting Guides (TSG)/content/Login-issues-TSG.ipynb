{
    "metadata": {
        "kernelspec": {
            "name": "python3",
            "display_name": "Python 3",
            "language": "python"
        },
        "language_info": {
            "name": "python",
            "version": "3.6.6",
            "mimetype": "text/x-python",
            "codemirror_mode": {
                "name": "ipython",
                "version": 3
            },
            "pygments_lexer": "ipython3",
            "nbconvert_exporter": "python",
            "file_extension": ".py"
        }
    },
    "nbformat_minor": 2,
    "nbformat": 4,
    "cells": [
        {
            "cell_type": "markdown",
            "source": [
                "# Dynamics 365 Business Central Trouble Shooting Guide (TSG) - Login issues (SaaS)\r\n",
                "\r\n",
                "This notebook contains Kusto queries that can help getting to the root cause of a login issue for an environment in the online version of Business Central (SaaS). Each section in the notebook contains links to the TSG part of the authorization telemetry documentation in [aka.ms/bctelemetry](aka.ms/bctelemetry), as well as Kusto queries that help dive into a specific area. \r\n",
                "\r\n",
                "NB! The signal used in this notebook is only available in version 16.2 (or newer) of Business Central online, so check the version of your environment."
            ],
            "metadata": {
                "azdata_cell_guid": "1f608a1d-2436-4b48-80d4-5c4d2f8ca7d0"
            }
        },
        {
            "cell_type": "markdown",
            "source": [
                "## 1\\. Get setup: Load up Python libraries and connect to Application Insights\n",
                "First you need to set the notebook Kernel to Python3, load the KQLmagic module (did you install it? ) and connect to your Application Insights resource (get appid and appkey from the API access page in the Application Insights portal)"
            ],Install instructions: https://github.com/microsoft/BCTech/tree/master/samples/AppInsights/TroubleShootingGuides
            "metadata": {
                "azdata_cell_guid": "f103fae9-cf6d-40f7-9062-11ce50691046"
            }
        },
        {
            "cell_type": "code",
            "source": [
                "# load the KQLmagic module\r\n",
                "%reload_ext Kqlmagic"
            ],
            "metadata": {
                "azdata_cell_guid": "a253fa8e-6ac2-4722-a00a-1c52aedab4ed",
                "tags": []
            },
            "outputs": [],
            "execution_count": null
        },
        {
            "cell_type": "code",
            "source": [
                "# Connect to the Application Insights API\r\n",
                "%kql appinsights://appid='<add app id from the Application Insights portal>';appkey='<add API key from the Application Insights portal>'"
            ],
            "metadata": {
                "azdata_cell_guid": "76c5fa02-b403-4c57-8c7d-3150e9d4270a"
            },
            "outputs": [],
            "execution_count": null
        },
        {
            "cell_type": "markdown",
            "source": [
                "## 2\\. Define filters\n",
                "\n",
                "This workbook is designed for troubleshooting a single environment. Please provide values for aadTenantId and environmentName (or use a config file)."
            ],
            "metadata": {
                "azdata_cell_guid": "9ef1220c-d9cc-4552-9297-1428efcafb32"
            }
        },
        {
            "cell_type": "code",
            "source": [
                "# Add values for AAD tenant id, environment name, and date range.\r\n",
                "# It is possible to leave the value for environment name blank (if you want to analyze across all values of the parameter)\r\n",
                "\r\n",
                "# You can either use configuration file (INI file format) or set filters directly. \r\n",
                "\r\n",
                "# If you specify a config file, then variables set here takes precedence over manually set filter variables\r\n",
                "# config file name and directory (full path)\r\n",
                "configFile = \"c:/tmp/notebook.ini\"\r\n",
                "\r\n",
                "\r\n",
                "# Add AAD tenant id and environment name here\r\n",
                "aadTenantId = \"MyaaDtenantId\"\r\n",
                "environmentName = \"\"\r\n",
                "extensionId = \"MyExtensionId\"\r\n",
                "\r\n",
                "# date filters for the analysis\r\n",
                "# use YYYY-MM-DD format for the dates (ISO 8601)\r\n",
                "startDate = \"2020-11-20\"\r\n",
                "endDate = \"2020-11-24\"\r\n",
                "\r\n",
                "\r\n",
                "\r\n",
                "\r\n",
                "# Do not edit this code section\r\n",
                "import configparser\r\n",
                "config = configparser.ConfigParser()\r\n",
                "\r\n",
                "config.read(configFile)\r\n",
                "\r\n",
                "if bool(config.defaults()):\r\n",
                "    if config.has_option('DEFAULT', 'aadTenantId'):\r\n",
                "        aadTenantId = config['DEFAULT']['aadTenantId']\r\n",
                "    if config.has_option('DEFAULT', 'environmentName'):\r\n",
                "        environmentName = config['DEFAULT']['environmentName']\r\n",
                "    if config.has_option('DEFAULT', 'extensionId'):\r\n",
                "        extensionId = config['DEFAULT']['extensionId']\r\n",
                "    if config.has_option('DEFAULT', 'startDate'):    \r\n",
                "        startDate = config['DEFAULT']['startDate']\r\n",
                "    if config.has_option('DEFAULT', 'endDate'):\r\n",
                "        endDate = config['DEFAULT']['endDate']\r\n",
                "\r\n",
                "print(\"Using these parameters for the analysis:\")\r\n",
                "print(\"----------------------------------------\")\r\n",
                "print(\"aadTenantId         \" + aadTenantId)\r\n",
                "print(\"environmentName     \" + environmentName)\r\n",
                "print(\"startDate           \" + startDate)\r\n",
                "print(\"endDate             \" + endDate)"
            ],
            "metadata": {
                "azdata_cell_guid": "0a0785f7-a85e-4ccf-9020-732e1d4c058a",
                "tags": []
            },
            "outputs": [],
            "execution_count": null
        },
        {
            "cell_type": "markdown",
            "source": [
                "# Analyze the login flow\r\n",
                "Now you can run Kusto queries to look for possible root causes for login issues.\r\n",
                "\r\n",
                "Either click **Run All** above to run all sections, or scroll down to the type of analysis you want to do and manually run queries\r\n",
                "\r\n",
                "Documentation of the authentication and authorization flow: https://docs.microsoft.com/en-us/dynamics365/business-central/dev-itpro/security/security-application\r\n",
                "\r\n",
                "Kusto sample: https://github.com/microsoft/BCTech/blob/master/samples/AppInsights/KQL/RawData/Authorization.kql"
            ],
            "metadata": {
                "azdata_cell_guid": "5f9b698d-8a7e-4757-b27d-02f219d6c589"
            }
        },
        {
            "cell_type": "markdown",
            "source": [
                "## Authentication\r\n",
                "\r\n",
                "Authentication in the online version of Business Central happens strictly in Azure Active Directory (AAD). Only when a user is authenticated in AAD, a session is attempted to be created in the Business Central server (NST). When dealing with login issues, check for *absense* of signal in eventIds for Authorization in the pre-open company of opening a session in the NST (eventIds RT0001 and RT0003) to determine if the issue is related to AAD (e.g. user is disabled, wrong password, failed MFA) or maybe something happening in the customer network (could be a DNS issue, or a changed firewall rule). \r\n",
                "\r\n",
                "**If you do not see any signal for eventIds RT0001 and RT0003, then start troubleshooting network issues first.**\r\n",
                "\r\n",
                "Read more in the Security Guide here: https://docs.microsoft.com/en-us/dynamics365/business-central/dev-itpro/security/security-application#authentication"
            ],
            "metadata": {
                "azdata_cell_guid": "810235a1-c202-47a2-b9dc-4d4d1ffd123c"
            }
        },
        {
            "cell_type": "code",
            "source": [
                "%%kql\r\n",
                "let _aadTenantId = aadTenantId;\r\n",
                "let _environmentName = environmentName;\r\n",
                "let _startDate = startDate;\r\n",
                "let _endDate = endDate;\r\n",
                "traces\r\n",
                "| where 1==1 \r\n",
                "    and timestamp >= todatetime(_startDate)\r\n",
                "    and timestamp <= todatetime(_endDate) + totimespan(24h) - totimespan(1ms)   \r\n",
                "    and customDimensions.aadTenantId == _aadTenantId\r\n",
                "    and (_environmentName == '' or customDimensions.environmentName == _environmentName )\r\n",
                "    and customDimensions.eventId in ('RT0001', 'RT0003' )\r\n",
                "| summarize request_count=count() by bin(timestamp, 1h) | render timechart title= 'Number of pre-open company authorization attempts in the last day'"
            ],
            "metadata": {
                "azdata_cell_guid": "6426410c-182a-486c-8466-228cb9ce3228",
                "tags": []
            },
            "outputs": [],
            "execution_count": null
        },
        {
            "cell_type": "markdown",
            "source": [
                "## Authorization failures (pre-open company)\r\n",
                "\r\n",
                "A user can fail authorization before the open company trigger is executed for a number of different reasons:\r\n",
                "* The user was successfully authenticated in Azure Active Directory but the user account is disabled in Business Central.\r\n",
                "* A user successfully authenticated in Azure Active Directory but the user does not have any entitlements in Business Central (license issue)\r\n",
                "\r\n",
                "Read more about these types of failures in the authorization signal docs here: https://docs.microsoft.com/en-us/dynamics365/business-central/dev-itpro/administration/telemetry-authorization-trace#authorizationfailedpreopencompany\r\n",
                "\r\n",
                "Kusto query: https://github.com/microsoft/BCTech/blob/master/samples/AppInsights/KQL/RawData/Authorization.kql"
            ],
            "metadata": {
                "azdata_cell_guid": "2f9c2d0d-df3c-482b-af58-48416a517117"
            }
        },
        {
            "cell_type": "code",
            "source": [
                "%%kql\r\n",
                "let _aadTenantId = aadTenantId;\r\n",
                "let _environmentName = environmentName;\r\n",
                "let _startDate = startDate;\r\n",
                "let _endDate = endDate;\r\n",
                "traces\r\n",
                "| where 1==1 \r\n",
                "    and timestamp >= todatetime(_startDate)\r\n",
                "    and timestamp <= todatetime(_endDate) + totimespan(24h) - totimespan(1ms)   \r\n",
                "    and customDimensions.aadTenantId == _aadTenantId\r\n",
                "    and (_environmentName == '' or customDimensions.environmentName == _environmentName )\r\n",
                "    and customDimensions.eventId == 'RT0001'\r\n",
                "| project timestamp\r\n",
                ", guestUser = customDimensions.guestUser\r\n",
                ", userType = customDimensions.userType\r\n",
                ", failureReason = customDimensions.failureReason\r\n",
                ", entitlementSetIds = customDimensions.entitlementSetIds\r\n",
                "| order by timestamp desc\r\n",
                "| limit 100"
            ],
            "metadata": {
                "azdata_cell_guid": "a9e923e9-1d05-4acf-a230-4c5142bc3582",
                "tags": []
            },
            "outputs": [],
            "execution_count": null
        },
        {
            "cell_type": "markdown",
            "source": [
                "## Authorization failures (in the open company process)\r\n",
                "\r\n",
                "Events show up here for a number of different reasons\r\n",
                "* The company name is invalid\r\n",
                "* User has no permission to access the company\r\n",
                "* The environment is locked\r\n",
                "* The license has expired or the trial period has ended\r\n",
                "* The user's license is not valid for use on production companies\r\n",
                "\r\n",
                "Read more in the authorization signal docs here: https://docs.microsoft.com/en-us/dynamics365/business-central/dev-itpro/administration/telemetry-authorization-trace#authorization-failed-open-company\r\n",
                "\r\n",
                "Kusto query: https://github.com/microsoft/BCTech/blob/master/samples/AppInsights/KQL/RawData/Authorization.kql\r\n",
                ""
            ],
            "metadata": {
                "azdata_cell_guid": "2f7e604a-0d02-484e-9bcb-a6aa148d5f0b"
            }
        },
        {
            "cell_type": "code",
            "source": [
                "%%kql\r\n",
                "let _aadTenantId = aadTenantId;\r\n",
                "let _environmentName = environmentName;\r\n",
                "let _startDate = startDate;\r\n",
                "let _endDate = endDate;\r\n",
                "traces\r\n",
                "| where 1==1 \r\n",
                "    and timestamp >= todatetime(_startDate)\r\n",
                "    and timestamp <= todatetime(_endDate) + totimespan(24h) - totimespan(1ms)   \r\n",
                "    and customDimensions.aadTenantId == _aadTenantId\r\n",
                "    and (_environmentName == '' or customDimensions.environmentName == _environmentName )\r\n",
                "    and customDimensions.eventId == 'RT0002'\r\n",
                "| project timestamp\r\n",
                ", clientType = customDimensions.clientType\r\n",
                ", companyName = customDimensions.companyName\r\n",
                ", failureReason = customDimensions.failureReason\r\n",
                "| order by timestamp desc\r\n",
                "| limit 100"
            ],
            "metadata": {
                "azdata_cell_guid": "9ec9b678-7d66-4758-9101-4e9e5025dfcf",
                "tags": []
            },
            "outputs": [],
            "execution_count": null
        },
        {
            "cell_type": "markdown",
            "source": [
                "## Successful logins (authentication in AAD succeded, authorization in the Business Central server succeeded)\r\n",
                "\r\n",
                "If the user can authenticate against AAD and the two authorization steps inside the Business Central server succeeds, then a session is created and the user has successfully logged in.\r\n",
                "\r\n",
                "Read more about application security in the Security Guide here:  https://docs.microsoft.com/en-us/dynamics365/business-central/dev-itpro/security/security-application#authentication\r\n",
                "\r\n",
                "Kusto query: https://github.com/microsoft/BCTech/blob/master/samples/AppInsights/KQL/RawData/Authorization.kql"
            ],
            "metadata": {
                "azdata_cell_guid": "7ed10cbf-6380-4591-ad66-8dc6b886ba48"
            }
        },
        {
            "cell_type": "code",
            "source": [
                "%%kql\r\n",
                "let _aadTenantId = aadTenantId;\r\n",
                "let _environmentName = environmentName;\r\n",
                "let _startDate = startDate;\r\n",
                "let _endDate = endDate;\r\n",
                "traces\r\n",
                "| where 1==1 \r\n",
                "    and timestamp >= todatetime(_startDate)\r\n",
                "    and timestamp <= todatetime(_endDate) + totimespan(24h) - totimespan(1ms)   \r\n",
                "    and customDimensions.aadTenantId == _aadTenantId\r\n",
                "    and (_environmentName == '' or customDimensions.environmentName == _environmentName )\r\n",
                "    and customDimensions.eventId == 'RT0004'\r\n",
                "| project timestamp\r\n",
                ", clientType = customDimensions.clientType\r\n",
                ", companyName = customDimensions.companyName\r\n",
                ", totalTimeInMS = toreal(totimespan(customDimensions.totalTime))/10000 // totalTime is measured in ticks, divide by 10000 to get milliseconds\r\n",
                "| order by timestamp desc\r\n",
                "| limit 100"
            ],
            "metadata": {
                "azdata_cell_guid": "f8e7955e-2b86-410b-98ad-f4979d85e879"
            },
            "outputs": [],
            "execution_count": null
        },
        {
            "cell_type": "code",
            "source": [
                "%%kql\r\n",
                "let _aadTenantId = aadTenantId;\r\n",
                "let _environmentName = environmentName;\r\n",
                "let _startDate = startDate;\r\n",
                "let _endDate = endDate;\r\n",
                "traces\r\n",
                "| where 1==1 \r\n",
                "    and timestamp >= todatetime(_startDate)\r\n",
                "    and timestamp <= todatetime(_endDate) + totimespan(24h) - totimespan(1ms)   \r\n",
                "    and customDimensions.aadTenantId == _aadTenantId\r\n",
                "    and (_environmentName == '' or customDimensions.environmentName == _environmentName )\r\n",
                "    and customDimensions.eventId == 'RT0004'\r\n",
                "| extend clientType = tostring( customDimensions.clientType )\r\n",
                "| summarize count=count() by clientType, bin(timestamp, 1h)\r\n",
                "| render timechart title= 'Number of successful logins the last day (shown by client/session type)'"
            ],
            "metadata": {
                "azdata_cell_guid": "21e5d398-4a06-4ab9-a0e3-6e6263725dec"
            },
            "outputs": [],
            "execution_count": null
        },
        {
            "cell_type": "code",
            "source": [
                "%%kql\r\n",
                "let _aadTenantId = aadTenantId;\r\n",
                "let _environmentName = environmentName;\r\n",
                "let _startDate = startDate;\r\n",
                "let _endDate = endDate;\r\n",
                "traces\r\n",
                "| where 1==1 \r\n",
                "    and timestamp >= todatetime(_startDate)\r\n",
                "    and timestamp <= todatetime(_endDate) + totimespan(24h) - totimespan(1ms)   \r\n",
                "    and customDimensions.aadTenantId == _aadTenantId\r\n",
                "    and (_environmentName == '' or customDimensions.environmentName == _environmentName )\r\n",
                "    and customDimensions.eventId in ('RT0001', 'RT0002', 'RT0004')\r\n",
                "| extend attemptType = case(\r\n",
                "    customDimensions.eventId == 'RT0001', 'Failure before open company' ,\r\n",
                "    customDimensions.eventId == 'RT0002', 'Failure in open company trigger' ,\r\n",
                "    customDimensions.eventId == 'RT0004', 'Successful login' , \r\n",
                "    'Unknown reason'\r\n",
                ")\r\n",
                "| summarize count=count() by attemptType, bin(timestamp, 1h)\r\n",
                "| render timechart title= 'Number of login attempts the last day (shown by success/failure)'"
            ],
            "metadata": {
                "azdata_cell_guid": "5a1bb5e1-4d74-4ff3-938c-e04c989977fd"
            },
            "outputs": [],
            "execution_count": null
        }
    ]
}